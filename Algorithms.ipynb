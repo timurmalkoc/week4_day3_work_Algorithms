{
 "cells": [
  {
   "cell_type": "markdown",
   "id": "8d0b6f90",
   "metadata": {},
   "source": [
    "# Exercises"
   ]
  },
  {
   "cell_type": "markdown",
   "id": "8eaab643",
   "metadata": {},
   "source": [
    "### Exercise #1 <br>\n",
    "<p>Reverse the list below in-place using an in-place algorithm.<br>For extra credit: Reverse the strings at the same time.</p>"
   ]
  },
  {
   "cell_type": "code",
   "execution_count": 2,
   "id": "377a2ff8",
   "metadata": {},
   "outputs": [
    {
     "data": {
      "text/plain": [
       "['.', 'ecnetnes', 'a', 'si', 'siht']"
      ]
     },
     "execution_count": 2,
     "metadata": {},
     "output_type": "execute_result"
    }
   ],
   "source": [
    "words = ['this' , 'is', 'a', 'sentence', '.']\n",
    "# ['.', 'ecnetnes', 'a', 'si', 'siht']\n",
    "\n",
    "\n",
    "list(map(lambda x: x[::-1], reversed(words)))\n"
   ]
  },
  {
   "cell_type": "markdown",
   "id": "aa2cb8d1",
   "metadata": {},
   "source": [
    "### Exercise #2 <br>\n",
    "<p>Create a function that counts how many distinct words are in the string below, then outputs a dictionary with the words as the key and the value as the amount of times that word appears in the string.</p>\n",
    "Example Output:<code>{'in': 1, 'computing': 1, 'a': 5, ...}</code>"
   ]
  },
  {
   "cell_type": "code",
   "execution_count": 13,
   "id": "7cf0f5f0",
   "metadata": {},
   "outputs": [
    {
     "name": "stdout",
     "output_type": "stream",
     "text": [
      "{'in': 1, 'computing,': 1, 'a': 5, 'hash': 4, 'table': 2, 'map': 2, 'is': 1, 'data': 2, 'structure': 2, 'which': 2, 'implements': 1, 'an': 3, 'associative': 1, 'array': 2, 'abstract': 1, 'type,': 1, 'that': 1, 'can': 2, 'keys': 1, 'to': 2, 'values.': 1, 'uses': 1, 'function': 1, 'compute': 1, 'index': 1, 'into': 1, 'of': 1, 'buckets': 1, 'or': 1, 'slots': 1, 'from': 1, 'the': 1, 'desired': 1, 'value': 1, 'be': 1, 'found': 1}\n"
     ]
    }
   ],
   "source": [
    "text = 'In computing, a hash table hash map is a data structure which implements an associative array abstract data type, a structure that can map keys to values. A hash table uses a hash function to compute an index into an array of buckets or slots from which the desired value can be found'\n",
    "d = {}\n",
    "for t in text.split():\n",
    "    t = t.lower()\n",
    "    if t in d:\n",
    "        d[t]+=1\n",
    "    else:\n",
    "        d[t]=1\n",
    "        \n",
    "print(d)\n"
   ]
  },
  {
   "cell_type": "markdown",
   "id": "6320fb08",
   "metadata": {},
   "source": [
    "## Exercise #3\n",
    "\n",
    "Write a function implementing a Linear Search Algorithm. A linear search is a method for finding an element within a list. It sequentially checks each element of the list until a match is found or the whole list has been searched. If you do not find a match, return -1"
   ]
  },
  {
   "cell_type": "code",
   "execution_count": 18,
   "id": "8645805e",
   "metadata": {},
   "outputs": [
    {
     "name": "stdout",
     "output_type": "stream",
     "text": [
      "3\n",
      "-1\n"
     ]
    }
   ],
   "source": [
    "nums_list = [10,23,45,70,11,15]\n",
    "\n",
    "def find_element(lst, target):\n",
    "    for i,e in enumerate(lst):\n",
    "        if e == target:\n",
    "            return i\n",
    "    else:\n",
    "        return -1\n",
    "    \n",
    "print(find_element(nums_list, 70))\n",
    "print(find_element(nums_list, 3))\n"
   ]
  },
  {
   "cell_type": "code",
   "execution_count": 19,
   "id": "0144990f",
   "metadata": {},
   "outputs": [
    {
     "data": {
      "text/plain": [
       "4"
      ]
     },
     "execution_count": 19,
     "metadata": {},
     "output_type": "execute_result"
    }
   ],
   "source": [
    "# other way\n",
    "\n",
    "nums_list.index(11)"
   ]
  },
  {
   "cell_type": "code",
   "execution_count": 49,
   "id": "9a547906",
   "metadata": {},
   "outputs": [
    {
     "name": "stdout",
     "output_type": "stream",
     "text": [
      "[10, 11, 15, 23, 45, 70]\n",
      "4\n",
      "3\n",
      "1\n",
      "-1\n"
     ]
    }
   ],
   "source": [
    "# Binary\n",
    "nums_list = [10,23,45,70,11,15]\n",
    "nums_list.sort()\n",
    "print(nums_list)\n",
    "def binary_serch(lst, target):\n",
    "    low = 0\n",
    "    high = len(lst)-1\n",
    "    \n",
    "    while low <= high:\n",
    "\n",
    "        mid = (high + low)//2\n",
    "\n",
    "        if lst[mid] == target:\n",
    "            return mid\n",
    "\n",
    "        elif lst[mid] < target:\n",
    "            low = mid + 1\n",
    "\n",
    "        else:\n",
    "            high = mid - 1\n",
    "\n",
    "    return -1\n",
    "\n",
    "\n",
    "print(binary_serch(nums_list, 45))\n",
    "print(binary_serch(nums_list, 23))\n",
    "print(binary_serch(nums_list, 11))\n",
    "print(binary_serch(nums_list, 13))\n",
    "        \n",
    "            \n",
    "        "
   ]
  },
  {
   "cell_type": "code",
   "execution_count": null,
   "id": "307bcf92",
   "metadata": {},
   "outputs": [],
   "source": []
  }
 ],
 "metadata": {
  "kernelspec": {
   "display_name": "Python 3 (ipykernel)",
   "language": "python",
   "name": "python3"
  },
  "language_info": {
   "codemirror_mode": {
    "name": "ipython",
    "version": 3
   },
   "file_extension": ".py",
   "mimetype": "text/x-python",
   "name": "python",
   "nbconvert_exporter": "python",
   "pygments_lexer": "ipython3",
   "version": "3.9.12"
  }
 },
 "nbformat": 4,
 "nbformat_minor": 5
}
